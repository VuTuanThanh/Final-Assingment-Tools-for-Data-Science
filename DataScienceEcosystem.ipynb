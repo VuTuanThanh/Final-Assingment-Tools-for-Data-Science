{
 "cells": [
  {
   "cell_type": "markdown",
   "id": "bf7f3f7f",
   "metadata": {},
   "source": [
    "# Data Science Tools and Ecosystem"
   ]
  },
  {
   "cell_type": "markdown",
   "id": "74ab8dc7",
   "metadata": {},
   "source": [
    "### Exercise 3 - Create a markdown cell for an introduction"
   ]
  },
  {
   "cell_type": "markdown",
   "id": "a5294e1c",
   "metadata": {},
   "source": [
    " In this notebook, Data Science Tools and Ecosystem are summarized."
   ]
  },
  {
   "cell_type": "markdown",
   "id": "d5a75819",
   "metadata": {},
   "source": [
    "### Objectives:"
   ]
  },
  {
   "cell_type": "markdown",
   "id": "48401b69",
   "metadata": {},
   "source": [
    "* List popular languages that Data Scientists use.\n",
    "* List commonly used libraries used by Data Scientists.\n",
    "* Comment on Data Science tools."
   ]
  },
  {
   "cell_type": "markdown",
   "id": "57245243",
   "metadata": {},
   "source": [
    "#### Some of the popular languages that Data Scientists use are:\n",
    "    1.Python\n",
    "    2.R\n",
    "    3.SQL"
   ]
  },
  {
   "cell_type": "markdown",
   "id": "9c7db310",
   "metadata": {},
   "source": [
    "#### Some of the commonly used libraries used by Data Scientists include:\n",
    "    1.TensorFlow\n",
    "    2.NumPy\n",
    "    3.SciPy\n",
    "    4.Pandas\n"
   ]
  },
  {
   "cell_type": "markdown",
   "id": "b9f27734",
   "metadata": {},
   "source": [
    "#### Data Science Tools\n",
    "\n",
    "              Data Science Tools\t\t\n",
    "    SAS \t\t\n",
    "    Apache Spark\t\t\n",
    "    BigML"
   ]
  },
  {
   "cell_type": "markdown",
   "id": "1da4978e",
   "metadata": {},
   "source": [
    "### Below are a few examples of evaluating arithmetic expressions in Python"
   ]
  },
  {
   "cell_type": "code",
   "execution_count": 1,
   "id": "06139994",
   "metadata": {},
   "outputs": [
    {
     "data": {
      "text/plain": [
       "17"
      ]
     },
     "execution_count": 1,
     "metadata": {},
     "output_type": "execute_result"
    }
   ],
   "source": [
    "#This a simple arithmetic expression to mutiply then add integers\n",
    "(3*4)+5"
   ]
  },
  {
   "cell_type": "code",
   "execution_count": 2,
   "id": "aa5cd8ca",
   "metadata": {},
   "outputs": [
    {
     "name": "stdout",
     "output_type": "stream",
     "text": [
      "0 days, 3.3333333333333335 hours, 0 mins. \n"
     ]
    }
   ],
   "source": [
    "#This will convert 200 minutes to hours by diving by 60\n",
    "days = 0\n",
    "hours = 0\n",
    "mins = 0\n",
    "\n",
    "time = 200\n",
    "#days = time / 1440\n",
    "leftover_minutes = time % 1440\n",
    "hours = leftover_minutes / 60\n",
    "#mins = time - (days*1440) - (hours*60)\n",
    "print(str(days) + \" days, \" + str(hours) + \" hours, \" + str(mins) +  \" mins. \")"
   ]
  },
  {
   "cell_type": "markdown",
   "id": "15ea86f2",
   "metadata": {},
   "source": [
    "### Author"
   ]
  },
  {
   "cell_type": "markdown",
   "id": "d6b45db1",
   "metadata": {},
   "source": [
    "Vu Tuan Thanh"
   ]
  }
 ],
 "metadata": {
  "kernelspec": {
   "display_name": "Python 3 (ipykernel)",
   "language": "python",
   "name": "python3"
  },
  "language_info": {
   "codemirror_mode": {
    "name": "ipython",
    "version": 3
   },
   "file_extension": ".py",
   "mimetype": "text/x-python",
   "name": "python",
   "nbconvert_exporter": "python",
   "pygments_lexer": "ipython3",
   "version": "3.10.9"
  }
 },
 "nbformat": 4,
 "nbformat_minor": 5
}
